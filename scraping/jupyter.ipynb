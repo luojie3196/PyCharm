{
 "cells": [
  {
   "cell_type": "code",
   "execution_count": null,
   "metadata": {
    "collapsed": true
   },
   "outputs": [],
   "source": [
    "from BS4 import BeautifulSoup\n",
    "html_sample = '''\n",
    "<html>\n",
    "    <body>\n",
    "    <h1 id='title'>Hello world</h1>\n",
    "    <a href=\"#\" class=\"link\">This is link1</a>\n",
    "    <a href=\"# link2\" class=\"link\">This is link2</a>\n",
    "    </body>\n",
    "</html>'''\n",
    "soup = BeautifulSoup(html_sample, 'html.parser')\n",
    "print(soup.text)"
   ]
  }
 ],
 "metadata": {
  "kernelspec": {
   "display_name": "Python 2",
   "language": "python",
   "name": "python2"
  },
  "language_info": {
   "codemirror_mode": {
    "name": "ipython",
    "version": 2.0
   },
   "file_extension": ".py",
   "mimetype": "text/x-python",
   "name": "python",
   "nbconvert_exporter": "python",
   "pygments_lexer": "ipython2",
   "version": "2.7.6"
  }
 },
 "nbformat": 4,
 "nbformat_minor": 0
}